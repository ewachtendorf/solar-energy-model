{
 "cells": [
  {
   "cell_type": "code",
   "execution_count": null,
   "id": "c1fa3bc0",
   "metadata": {},
   "outputs": [],
   "source": [
    "import os \n",
    "import pathlib\n",
    "import pvlib\n",
    "import pandas as pd\n",
    "import matplotlib.pyplot as plt"
   ]
  },
  {
   "cell_type": "markdown",
   "id": "59e45ab6-6e4a-46ea-891c-75cebc99eeab",
   "metadata": {
    "tags": []
   },
   "source": [
    "### Project Setting and Parameters"
   ]
  },
  {
   "cell_type": "code",
   "execution_count": null,
   "id": "d7012cd1",
   "metadata": {
    "tags": []
   },
   "outputs": [],
   "source": [
    "#general parameters\n",
    "name = \"Test Solar\"\n",
    "lat = 39.9\n",
    "lon = -75.1\n",
    "proj_azimuth = 180\n",
    "is_tracker = True\n",
    "\n",
    "#array details\n",
    "gamma_pdc = -0.004  # divide by 100 to go from %/°C to 1/°C\n",
    "nameplate = 1000 # Watts (DC)\n",
    "dcac_ratio = 1.25\n",
    "\n",
    "#fixed tilt only\n",
    "fixed_tilt = 40\n",
    "\n",
    "#tracker only\n",
    "is_backtracking = False\n",
    "max_tilt_angle = 60\n",
    "\n",
    "#thermal model parameters\n",
    "therm_model_type = 'sapm'\n",
    "cell_type = 'open_rack_glass_polymer'"
   ]
  },
  {
   "cell_type": "markdown",
   "id": "ad0af454-25db-43aa-bc34-eb4c48e0c10c",
   "metadata": {
    "tags": []
   },
   "source": [
    "### Pull in TMY Files (from PSM3 currently)"
   ]
  },
  {
   "cell_type": "code",
   "execution_count": null,
   "id": "92cb3e3f",
   "metadata": {
    "tags": []
   },
   "outputs": [],
   "source": [
    "df_tmy, metadata = pvlib.iotools.get_psm3(\n",
    "    latitude=lat, longitude=lon,\n",
    "    api_key='j37aXFTVZhCFXvFKhPIYIPRhLqSVz54OneVEBa2q',\n",
    "    email='ewachtendorf@gmail.com', \n",
    "    names='tmy')\n",
    "metadata\n",
    "\n",
    "df_tmy = df_tmy[['GHI', 'DHI', 'DNI', 'Temperature', 'Wind Speed']] # trim down variables to only necessary values"
   ]
  },
  {
   "cell_type": "code",
   "execution_count": null,
   "id": "fccd762b-f7ee-4471-ae60-4a88893700f7",
   "metadata": {},
   "outputs": [],
   "source": [
    "# force TMY df index to same year\n",
    "df_tmy.index = df_tmy.index + pd.DateOffset(year=2020)"
   ]
  },
  {
   "cell_type": "code",
   "execution_count": null,
   "id": "c67c5264",
   "metadata": {},
   "outputs": [],
   "source": [
    "# pull location and define solar position\n",
    "location = pvlib.location.Location(latitude=metadata['Latitude'],\n",
    "                                   longitude=metadata['Longitude'])\n",
    "times = df_tmy.index - pd.Timedelta('30min')\n",
    "solar_position = location.get_solarposition(times)\n",
    "solar_position.index += pd.Timedelta('30min')"
   ]
  },
  {
   "cell_type": "markdown",
   "id": "00af400c",
   "metadata": {},
   "source": [
    "### Model POA Irradiance (fixed or single axis tracker)"
   ]
  },
  {
   "cell_type": "code",
   "execution_count": null,
   "id": "7982bd9a",
   "metadata": {},
   "outputs": [],
   "source": [
    "# model POA based on fixed tilt or tracker\n",
    "if is_tracker == False:\n",
    "    df_poa = pvlib.irradiance.get_total_irradiance(\n",
    "        surface_tilt=fixed_tilt,  # tilted 20 degrees from horizontal\n",
    "        surface_azimuth= proj_azimuth,  # facing South\n",
    "        dni=df_tmy['DNI'],\n",
    "        ghi=df_tmy['GHI'],\n",
    "        dhi=df_tmy['DHI'],\n",
    "        solar_zenith=solar_position['apparent_zenith'],\n",
    "        solar_azimuth=solar_position['azimuth'],\n",
    "        model='king')\n",
    "    df_poa = df_poa['poa_global']\n",
    "    \n",
    "if is_tracker == True:\n",
    "    # get tracker details and model movement\n",
    "    tracker_data = pvlib.tracking.singleaxis(\n",
    "        solar_position['apparent_zenith'],\n",
    "        solar_position['azimuth'],\n",
    "        axis_azimuth=proj_azimuth, \n",
    "        backtrack=is_backtracking,\n",
    "        max_angle = max_tilt_angle \n",
    "        )\n",
    "    tilt = tracker_data['surface_tilt'].fillna(0)\n",
    "    azimuth = tracker_data['surface_azimuth'].fillna(0)\n",
    "    \n",
    "    df_poa = pvlib.irradiance.get_total_irradiance(\n",
    "        surface_tilt=tilt,  # time series for tracking array\n",
    "        surface_azimuth=azimuth,  # time series for tracking array\n",
    "        dni=df_tmy['DNI'],\n",
    "        ghi=df_tmy['GHI'],\n",
    "        dhi=df_tmy['DHI'],\n",
    "        solar_zenith=solar_position['apparent_zenith'],\n",
    "        solar_azimuth=solar_position['azimuth'])\n",
    "    df_poa = df_poa['poa_global']\n"
   ]
  },
  {
   "cell_type": "markdown",
   "id": "fa776b36",
   "metadata": {},
   "source": [
    "### Model Cell Temperature"
   ]
  },
  {
   "cell_type": "code",
   "execution_count": null,
   "id": "d3caf37a",
   "metadata": {},
   "outputs": [],
   "source": [
    "parameters = pvlib.temperature.TEMPERATURE_MODEL_PARAMETERS[therm_model_type][cell_type]\n",
    "cell_temperature = pvlib.temperature.sapm_cell(df_poa,\n",
    "                                               df_tmy['Temperature'],\n",
    "                                               df_tmy['Wind Speed'],\n",
    "                                               **parameters)"
   ]
  },
  {
   "cell_type": "markdown",
   "id": "6142a117",
   "metadata": {},
   "source": [
    "### Model AC/DC Power Output"
   ]
  },
  {
   "cell_type": "code",
   "execution_count": null,
   "id": "d0cf8699",
   "metadata": {},
   "outputs": [],
   "source": [
    "# dc power output calculation\n",
    "array_power_dc = pvlib.pvsystem.pvwatts_dc(df_poa, cell_temperature, nameplate, gamma_pdc)\n",
    "\n",
    "pdc0 = (nameplate/dcac_ratio)/0.96\n",
    "array_power_ac = pvlib.inverter.pvwatts(array_power_dc, pdc0)"
   ]
  },
  {
   "cell_type": "code",
   "execution_count": null,
   "id": "6117fca7",
   "metadata": {},
   "outputs": [],
   "source": [
    "plt.rcParams['font.size'] = 14\n",
    "ax = array_power_ac.resample('D').sum().plot(figsize=(15, 10), label='AC')\n",
    "array_power_dc.resample('D').sum().plot(ax=ax, label='DC')\n",
    "plt.title('AC Power')\n",
    "plt.ylabel('Output [Wh/day]')\n",
    "plt.grid()\n",
    "plt.legend()"
   ]
  },
  {
   "cell_type": "code",
   "execution_count": null,
   "id": "efd22e6d-2c5c-4280-ac0e-5efddd475cff",
   "metadata": {},
   "outputs": [],
   "source": []
  }
 ],
 "metadata": {
  "kernelspec": {
   "display_name": "Python 3",
   "language": "python",
   "name": "python3"
  },
  "language_info": {
   "codemirror_mode": {
    "name": "ipython",
    "version": 3
   },
   "file_extension": ".py",
   "mimetype": "text/x-python",
   "name": "python",
   "nbconvert_exporter": "python",
   "pygments_lexer": "ipython3",
   "version": "3.8.8"
  },
  "toc-showmarkdowntxt": false
 },
 "nbformat": 4,
 "nbformat_minor": 5
}
